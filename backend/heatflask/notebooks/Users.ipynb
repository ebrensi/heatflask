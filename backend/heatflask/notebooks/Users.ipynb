{
 "cells": [
  {
   "cell_type": "code",
   "execution_count": 1,
   "id": "edbbcad9",
   "metadata": {},
   "outputs": [
    {
     "name": "stdout",
     "output_type": "stream",
     "text": [
      "/home/efrem/dev/heatflask/backend/heatflask\n"
     ]
    }
   ],
   "source": [
    "# make sure we are working in module directory\n",
    "repo_root = !git rev-parse --show-toplevel\n",
    "module_path = repo_root[0] + \"/backend/heatflask\"\n",
    "%cd $module_path"
   ]
  },
  {
   "cell_type": "code",
   "execution_count": 2,
   "id": "0ab73779",
   "metadata": {},
   "outputs": [],
   "source": [
    "# %load Users.py\n",
    "\"\"\"\n",
    "***  For Jupyter notebook ***\n",
    "Paste one of these Jupyter magic directives to the top of a cell\n",
    " and run it, to do these things:\n",
    "    %%cython --annotate       # Compile and run the cell\n",
    "    %load Users.py            # Load Users.py file into this (empty) cell\n",
    "    %%writefile Users.py      # Write the contents of this cell to Users.py\n",
    "\"\"\"\n",
    "\n",
    "from logging import getLogger\n",
    "import datetime\n",
    "\n",
    "import DataAPIs\n",
    "import Utility\n",
    "\n",
    "log = getLogger(__name__)\n",
    "log.propagate = True\n",
    "\n",
    "COLLECTION_NAME = \"users\"\n",
    "\n",
    "# Drop a user after a year of inactivity\n",
    "MONGO_TTL = 365 * 24 * 3600\n",
    "\n",
    "ADMIN = [15972102]\n",
    "\n",
    "\n",
    "class Box:\n",
    "    collection = None\n",
    "\n",
    "\n",
    "myBox = Box()\n",
    "\n",
    "\n",
    "async def get_collection():\n",
    "    if myBox.collection is None:\n",
    "        myBox.collection = await DataAPIs.init_collection(\n",
    "            COLLECTION_NAME, ttl=MONGO_TTL\n",
    "        )\n",
    "    return myBox.collection\n",
    "\n",
    "\n",
    "def mongo_doc(\n",
    "    # From Strava Athlete record\n",
    "    id=None,\n",
    "    username=None,\n",
    "    firstname=None,\n",
    "    lastname=None,\n",
    "    profile_medium=None,\n",
    "    profile=None,\n",
    "    measurement_preference=None,\n",
    "    city=None,\n",
    "    state=None,\n",
    "    country=None,\n",
    "    email=None,\n",
    "    # my additions\n",
    "    _id=None,\n",
    "    ts=None,\n",
    "    auth=None,\n",
    "    access_count=None,\n",
    "    private=None,\n",
    "    **extras\n",
    "):\n",
    "    if not (id or _id):\n",
    "        log.error(\"cannot create user with no id\")\n",
    "        return\n",
    "\n",
    "    return Utility.cleandict(\n",
    "        {\n",
    "            \"_id\": int(_id or id),\n",
    "            \"username\": username,\n",
    "            \"firstname\": firstname,\n",
    "            \"lastname\": lastname,\n",
    "            \"profile\": profile_medium or profile,\n",
    "            \"units\": measurement_preference,\n",
    "            \"city\": city,\n",
    "            \"state\": state,\n",
    "            \"country\": country,\n",
    "            \"email\": email,\n",
    "            #\n",
    "            \"ts\": ts,\n",
    "            \"access_count\": access_count,\n",
    "            \"auth\": auth,\n",
    "            \"private\": private,\n",
    "        }\n",
    "    )\n",
    "\n",
    "\n",
    "async def add_or_update(update_ts=False, inc_access_count=False, **userdict):\n",
    "    users = await get_collection()\n",
    "    doc = mongo_doc(**userdict)\n",
    "    if not doc:\n",
    "        log.exception(\"error adding/updating user: %s\", doc)\n",
    "        return\n",
    "\n",
    "    user_id = doc.pop(\"_id\")\n",
    "\n",
    "    if update_ts:\n",
    "        doc[\"ts\"] = datetime.datetime.utcnow()\n",
    "\n",
    "    updates = {\"$set\": doc} if doc else {}\n",
    "\n",
    "    if inc_access_count:\n",
    "        updates[\"$inc\"] = {\"access_count\": 1}\n",
    "\n",
    "    log.debug(\"calling mongodb update_one with updates %s\", updates)\n",
    "\n",
    "    # Creates a new user or updates an existing user (with the same id)\n",
    "    try:\n",
    "        return await users.update_one({\"_id\": user_id}, updates, upsert=True)\n",
    "    except Exception:\n",
    "        log.exception(\"error adding/updating user: %s\", doc)\n",
    "\n",
    "\n",
    "async def get(user_id):\n",
    "    users = await get_collection()\n",
    "    uid = int(user_id)\n",
    "    query = {\"_id\": uid}\n",
    "    try:\n",
    "        doc = await users.find_one(query)\n",
    "    except Exception:\n",
    "        log.exception(\"Failed mongodb query: %s\", query)\n",
    "        doc = None\n",
    "    return doc\n",
    "\n",
    "\n",
    "# Returns an async iterator\n",
    "async def get_all():\n",
    "    users = await get_collection()\n",
    "    return users.find()\n",
    "\n",
    "\n",
    "async def delete(user_id):\n",
    "    users = await get_collection()\n",
    "    uid = int(user_id)\n",
    "    try:\n",
    "        return await users.delete_one({\"_id\": uid})\n",
    "\n",
    "    except Exception:\n",
    "        log.exception(\"error deleting user %d\", uid)\n",
    "\n",
    "\n",
    "def stats():\n",
    "    return DataAPIs.stats(COLLECTION_NAME)\n",
    "\n",
    "\n",
    "def drop():\n",
    "    return DataAPIs.drop(COLLECTION_NAME)\n"
   ]
  },
  {
   "cell_type": "code",
   "execution_count": 3,
   "id": "0666a906",
   "metadata": {},
   "outputs": [
    {
     "name": "stderr",
     "output_type": "stream",
     "text": [
      "DEBUG:DataAPIs:initialized MongoDB and Redis\n",
      "ERROR:__main__:cannot create user with no id\n",
      "ERROR:__main__:error adding/updating user: None\n",
      "NoneType: None\n",
      "DEBUG:__main__:calling mongodb update_one with updates {'$set': {'username': 'guy'}}\n"
     ]
    },
    {
     "data": {
      "text/plain": [
       "<pymongo.results.UpdateResult at 0x7f6f00207100>"
      ]
     },
     "execution_count": 3,
     "metadata": {},
     "output_type": "execute_result"
    }
   ],
   "source": [
    "import logging\n",
    "logging.basicConfig(level=\"DEBUG\")\n",
    "\n",
    "await DataAPIs.connect()\n",
    "\n",
    "new_user_dict = {\"username\": \"guy\"}\n",
    "await add_or_update(**new_user_dict)  # should give an error\n",
    "\n",
    "new_user_dict = {**new_user_dict, \"id\": 222}\n",
    "await add_or_update(**new_user_dict)"
   ]
  },
  {
   "cell_type": "code",
   "execution_count": 4,
   "id": "34097342",
   "metadata": {},
   "outputs": [
    {
     "data": {
      "text/plain": [
       "{'_id': 222, 'username': 'guy'}"
      ]
     },
     "execution_count": 4,
     "metadata": {},
     "output_type": "execute_result"
    }
   ],
   "source": [
    "await get(222)"
   ]
  },
  {
   "cell_type": "code",
   "execution_count": 5,
   "id": "91ee3937",
   "metadata": {},
   "outputs": [
    {
     "name": "stderr",
     "output_type": "stream",
     "text": [
      "DEBUG:__main__:calling mongodb update_one with updates {'$set': {'private': False}}\n",
      "DEBUG:__main__:calling mongodb update_one with updates {'$inc': {'access_count': 1}}\n",
      "DEBUG:__main__:calling mongodb update_one with updates {'$set': {'ts': datetime.datetime(2022, 2, 15, 18, 56, 6, 957613)}}\n"
     ]
    },
    {
     "data": {
      "text/plain": [
       "({'n': 1, 'nModified': 1, 'ok': 1.0, 'updatedExisting': True},\n",
       " {'_id': 222,\n",
       "  'username': 'guy',\n",
       "  'private': False,\n",
       "  'access_count': 1,\n",
       "  'ts': datetime.datetime(2022, 2, 15, 18, 56, 6, 957000)})"
      ]
     },
     "execution_count": 5,
     "metadata": {},
     "output_type": "execute_result"
    }
   ],
   "source": [
    "await add_or_update(_id=222, private=False)\n",
    "\n",
    "await add_or_update(id=222, inc_access_count=True)\n",
    "\n",
    "result = await add_or_update(id=222, update_ts=True)\n",
    "user_info = await get(222)\n",
    "result.raw_result, user_info"
   ]
  },
  {
   "cell_type": "code",
   "execution_count": 6,
   "id": "1e7bdd52",
   "metadata": {},
   "outputs": [
    {
     "data": {
      "text/plain": [
       "{'n': 1, 'ok': 1.0}"
      ]
     },
     "execution_count": 6,
     "metadata": {},
     "output_type": "execute_result"
    }
   ],
   "source": [
    "result = await delete(222)\n",
    "result.raw_result"
   ]
  },
  {
   "cell_type": "code",
   "execution_count": 8,
   "id": "f46267a4",
   "metadata": {},
   "outputs": [
    {
     "name": "stdout",
     "output_type": "stream",
     "text": [
      "Paste this URL into your browser and retrieve the code:\n",
      " https://www.strava.com/oauth/authorize?client_id=12700&response_type=code&approval_prompt=force&scope=read,activity:read,activity:read_all&redirect_uri=http:%2F%2Flocalhost%2Fexchange_token\n"
     ]
    }
   ],
   "source": [
    "# import real user data from Strava\n",
    "import Strava\n",
    "print(\"Paste this URL into your browser and retrieve the code:\\n\", Strava.auth_url())"
   ]
  },
  {
   "cell_type": "code",
   "execution_count": 9,
   "id": "83377347",
   "metadata": {},
   "outputs": [
    {
     "name": "stderr",
     "output_type": "stream",
     "text": [
      "DEBUG:Strava:refreshing access token from code\n",
      "INFO:Strava:admin token refresh took 507\n"
     ]
    },
    {
     "data": {
      "text/plain": [
       "({'expires_at': 1644955224,\n",
       "  'refresh_token': '05867993a2d0c5b60c51653636a9c295348551f3',\n",
       "  'access_token': '5dabace655c26d1372321c53f5dad173ec2bd674'},\n",
       " {'id': 15972102,\n",
       "  'username': 'bfef',\n",
       "  'resource_state': 2,\n",
       "  'firstname': '👣',\n",
       "  'lastname': 'Efrem',\n",
       "  'bio': '* runs barefoot 👣\\n\\nhttps://www.heatflask.com',\n",
       "  'city': 'Oakland',\n",
       "  'state': 'California',\n",
       "  'country': 'United States',\n",
       "  'sex': 'M',\n",
       "  'premium': True,\n",
       "  'summit': True,\n",
       "  'created_at': '2016-06-25T03:48:55Z',\n",
       "  'updated_at': '2021-09-27T06:08:53Z',\n",
       "  'badge_type_id': 1,\n",
       "  'weight': 81.22,\n",
       "  'profile_medium': 'https://dgalywyr863hv.cloudfront.net/pictures/athletes/15972102/9131294/7/medium.jpg',\n",
       "  'profile': 'https://dgalywyr863hv.cloudfront.net/pictures/athletes/15972102/9131294/7/large.jpg',\n",
       "  'friend': None,\n",
       "  'follower': None})"
      ]
     },
     "execution_count": 9,
     "metadata": {},
     "output_type": "execute_result"
    }
   ],
   "source": [
    "# exchange code for token\n",
    "CODE = \"7eb4e6a3f74ef50947f39bda8660ba3400d2723b\"\n",
    "C = Strava.AsyncClient(\"admin\")\n",
    "new_info = await C.update_access_token(code=CODE)\n",
    "user_dict = new_info.pop(\"athlete\")\n",
    "new_info, user_dict"
   ]
  },
  {
   "cell_type": "code",
   "execution_count": 10,
   "id": "037ac12a",
   "metadata": {},
   "outputs": [
    {
     "data": {
      "text/plain": [
       "{'_id': 15972102,\n",
       " 'username': 'bfef',\n",
       " 'firstname': '👣',\n",
       " 'lastname': 'Efrem',\n",
       " 'profile': 'https://dgalywyr863hv.cloudfront.net/pictures/athletes/15972102/9131294/7/medium.jpg',\n",
       " 'city': 'Oakland',\n",
       " 'state': 'California',\n",
       " 'country': 'United States'}"
      ]
     },
     "execution_count": 10,
     "metadata": {},
     "output_type": "execute_result"
    }
   ],
   "source": [
    "mongo_doc(**user_dict)"
   ]
  },
  {
   "cell_type": "code",
   "execution_count": 11,
   "id": "21970120",
   "metadata": {},
   "outputs": [
    {
     "name": "stderr",
     "output_type": "stream",
     "text": [
      "DEBUG:__main__:calling mongodb update_one with updates {'$set': {'username': 'bfef', 'firstname': '👣', 'lastname': 'Efrem', 'profile': 'https://dgalywyr863hv.cloudfront.net/pictures/athletes/15972102/9131294/7/medium.jpg', 'city': 'Oakland', 'state': 'California', 'country': 'United States', 'auth': {'expires_at': 1644955224, 'refresh_token': '05867993a2d0c5b60c51653636a9c295348551f3', 'access_token': '5dabace655c26d1372321c53f5dad173ec2bd674'}, 'ts': datetime.datetime(2022, 2, 15, 18, 58, 32, 199696)}, '$inc': {'access_count': 1}}\n"
     ]
    },
    {
     "data": {
      "text/plain": [
       "<pymongo.results.UpdateResult at 0x7f6ef0738ac0>"
      ]
     },
     "execution_count": 11,
     "metadata": {},
     "output_type": "execute_result"
    }
   ],
   "source": [
    "await add_or_update(\n",
    "    auth=new_info,\n",
    "     update_ts=True, \n",
    "    inc_access_count=True,\n",
    "    **user_dict, \n",
    ")"
   ]
  },
  {
   "cell_type": "code",
   "execution_count": 12,
   "id": "a69f7868",
   "metadata": {},
   "outputs": [
    {
     "data": {
      "text/plain": [
       "[{'_id': 15972102,\n",
       "  'access_count': 2,\n",
       "  'auth': {'expires_at': 1644955224,\n",
       "   'refresh_token': '05867993a2d0c5b60c51653636a9c295348551f3',\n",
       "   'access_token': '5dabace655c26d1372321c53f5dad173ec2bd674'},\n",
       "  'city': 'Oakland',\n",
       "  'country': 'United States',\n",
       "  'firstname': '👣',\n",
       "  'lastname': 'Efrem',\n",
       "  'profile': 'https://dgalywyr863hv.cloudfront.net/pictures/athletes/15972102/9131294/7/medium.jpg',\n",
       "  'state': 'California',\n",
       "  'ts': datetime.datetime(2022, 2, 15, 18, 58, 32, 199000),\n",
       "  'username': 'bfef'}]"
      ]
     },
     "execution_count": 12,
     "metadata": {},
     "output_type": "execute_result"
    }
   ],
   "source": [
    "# async_cursor = await get_all()\n",
    "# userslist1 = [user async for user in async_cursor]  \n",
    "\n",
    "async_cursor = await get_all()\n",
    "userslist2 = await async_cursor.to_list(length=None)\n",
    "userslist2"
   ]
  },
  {
   "cell_type": "code",
   "execution_count": null,
   "id": "561f9a76",
   "metadata": {},
   "outputs": [],
   "source": [
    "await DataAPIs.disconnect()"
   ]
  }
 ],
 "metadata": {
  "kernelspec": {
   "display_name": "Python 3 (ipykernel)",
   "language": "python",
   "name": "python3"
  },
  "language_info": {
   "codemirror_mode": {
    "name": "ipython",
    "version": 3
   },
   "file_extension": ".py",
   "mimetype": "text/x-python",
   "name": "python",
   "nbconvert_exporter": "python",
   "pygments_lexer": "ipython3",
   "version": "3.10.2"
  }
 },
 "nbformat": 4,
 "nbformat_minor": 5
}
