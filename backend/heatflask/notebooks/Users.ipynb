{
 "cells": [
  {
   "cell_type": "code",
   "execution_count": null,
   "id": "edbbcad9",
   "metadata": {},
   "outputs": [],
   "source": [
    "%cd /home/efrem/dev/heatflask/backend/heatflask"
   ]
  },
  {
   "cell_type": "code",
   "execution_count": null,
   "id": "0ab73779",
   "metadata": {},
   "outputs": [],
   "source": [
    "# %%writefile Users.py\n",
    "from logging import getLogger\n",
    "from DataAPIs import mongodb, redis, init_collection\n",
    "\n",
    "\"\"\"\n",
    "***  For Jupyter notebook ***\n",
    "\n",
    "Paste one of these Jupyter magic directives to the top of a cell\n",
    " and run it, to do these things:\n",
    "\n",
    "  * %%cython --annotate\n",
    "      Compile and run the cell\n",
    "\n",
    "  * %load Users.py\n",
    "     Load Users.py file into this (empty) cell\n",
    "\n",
    "  * %%writefile Users.py\n",
    "      Write the contents of this cell to Users.py\n",
    "\n",
    "\"\"\"\n",
    "\n",
    "log = getLogger(__name__)\n",
    "log.propagate = True\n",
    "\n",
    "APP_NAME = \"heatflask\"\n",
    "COLLECTION_NAME = \"users\"\n",
    "CACHE_PREFIX = \"U:\"\n",
    "\n",
    "USER_TTL = 365 * 24 * 3600  # Drop a user after a year of inactivity\n",
    "\n",
    "async def init_db():\n",
    "    collection = await init_collection(\n",
    "        COLLECTION_NAME, force=False, ttl=USER_TTL, cache_prefix=CACHE_PREFIX\n",
    "    )\n"
   ]
  },
  {
   "cell_type": "code",
   "execution_count": null,
   "id": "d5a28d4e",
   "metadata": {},
   "outputs": [],
   "source": [
    "import logging\n",
    "logging.basicConfig(level=\"DEBUG\")\n",
    "await init_db()"
   ]
  },
  {
   "cell_type": "code",
   "execution_count": null,
   "id": "eda44388",
   "metadata": {},
   "outputs": [],
   "source": []
  },
  {
   "cell_type": "code",
   "execution_count": null,
   "id": "00a62a2e",
   "metadata": {},
   "outputs": [],
   "source": []
  }
 ],
 "metadata": {
  "kernelspec": {
   "display_name": "Python 3 (ipykernel)",
   "language": "python",
   "name": "python3"
  },
  "language_info": {
   "codemirror_mode": {
    "name": "ipython",
    "version": 3
   },
   "file_extension": ".py",
   "mimetype": "text/x-python",
   "name": "python",
   "nbconvert_exporter": "python",
   "pygments_lexer": "ipython3",
   "version": "3.9.7"
  }
 },
 "nbformat": 4,
 "nbformat_minor": 5
}
