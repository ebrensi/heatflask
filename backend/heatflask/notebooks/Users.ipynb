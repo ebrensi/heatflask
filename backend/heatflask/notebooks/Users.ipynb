{
 "cells": [
  {
   "cell_type": "code",
   "execution_count": null,
   "id": "edbbcad9",
   "metadata": {},
   "outputs": [],
   "source": [
    "# make sure we are working in module directory\n",
    "repo_root = !git rev-parse --show-toplevel\n",
    "module_path = repo_root[0] + \"/backend/heatflask\"\n",
    "%cd $module_path\n",
    "\n",
    "import sys\n",
    "__package__ = \"heatflask\"\n",
    "if \"..\" not in sys.path:\n",
    "    sys.path.insert(0, \"..\")\n",
    "\n",
    "\n",
    "# Make cells wider\n",
    "from IPython.display import display, HTML\n",
    "display(HTML(\"<style>.container { width:96% !important; }</style>\"))"
   ]
  },
  {
   "cell_type": "code",
   "execution_count": null,
   "id": "0ab73779",
   "metadata": {},
   "outputs": [],
   "source": [
    "%load Users.py"
   ]
  },
  {
   "cell_type": "code",
   "execution_count": null,
   "id": "5792b1d0",
   "metadata": {},
   "outputs": [],
   "source": [
    "# await DataAPIs.connect()\n",
    "# await drop()\n",
    "# await DataAPIs.disconnect()"
   ]
  },
  {
   "cell_type": "code",
   "execution_count": null,
   "id": "0666a906",
   "metadata": {},
   "outputs": [],
   "source": [
    "import logging\n",
    "logging.basicConfig(level=\"DEBUG\")\n",
    "\n",
    "await DataAPIs.connect()\n",
    "\n",
    "new_user_dict = {\"username\": \"guy\"}\n",
    "await add_or_update(**new_user_dict)  # should give an error\n",
    "\n",
    "new_user_dict = {**new_user_dict, \"id\": 222}\n",
    "await add_or_update(**new_user_dict)"
   ]
  },
  {
   "cell_type": "code",
   "execution_count": null,
   "id": "34097342",
   "metadata": {},
   "outputs": [],
   "source": [
    "await get(222)"
   ]
  },
  {
   "cell_type": "code",
   "execution_count": null,
   "id": "91ee3937",
   "metadata": {},
   "outputs": [],
   "source": [
    "await add_or_update(_id=222, private=False)\n",
    "\n",
    "await add_or_update(id=222, inc_access_count=True)\n",
    "\n",
    "result = await add_or_update(id=222, update_ts=True)\n",
    "user_info = await get(222)\n",
    "result, user_info"
   ]
  },
  {
   "cell_type": "code",
   "execution_count": null,
   "id": "1e7bdd52",
   "metadata": {},
   "outputs": [],
   "source": [
    "result = await delete(222)"
   ]
  },
  {
   "cell_type": "code",
   "execution_count": null,
   "id": "f46267a4",
   "metadata": {},
   "outputs": [],
   "source": [
    "# import real user data from Strava\n",
    "from . import Strava\n",
    "print(\"Paste this URL into your browser and retrieve the code:\\n\", Strava.auth_url())\n",
    "print(\"You will be redirected to an error page. copy the 'code' parameter from the url\")"
   ]
  },
  {
   "cell_type": "code",
   "execution_count": null,
   "id": "83377347",
   "metadata": {},
   "outputs": [],
   "source": [
    "# exchange code for token\n",
    "CODE = \"cda3bbe70722fa345770211c65f940f605c64598\"\n",
    "C = Strava.AsyncClient(\"admin\")\n",
    "auth_info = await C.update_access_token(code=CODE)\n",
    "strava_athlete = auth_info.pop(\"athlete\")\n",
    "auth_info, strava_athlete"
   ]
  },
  {
   "cell_type": "code",
   "execution_count": null,
   "id": "037ac12a",
   "metadata": {},
   "outputs": [],
   "source": [
    "mongo_doc(**strava_athlete, auth=auth_info)"
   ]
  },
  {
   "cell_type": "code",
   "execution_count": null,
   "id": "21970120",
   "metadata": {},
   "outputs": [],
   "source": [
    "await add_or_update(\n",
    "    update_last_login=True,\n",
    "    update_index_access=True,\n",
    "    inc_login_count=True,\n",
    "    **strava_athlete,\n",
    "    auth=auth_info\n",
    ")"
   ]
  },
  {
   "cell_type": "code",
   "execution_count": null,
   "id": "a69f7868",
   "metadata": {},
   "outputs": [],
   "source": [
    "# async_cursor = await get_all()\n",
    "# userslist1 = [user async for user in async_cursor]  \n",
    "\n",
    "async_cursor = await get_all()\n",
    "userslist2 = await async_cursor.to_list(length=None)\n",
    "userslist2"
   ]
  },
  {
   "cell_type": "code",
   "execution_count": null,
   "id": "4e20bcf6",
   "metadata": {},
   "outputs": [],
   "source": [
    "await migrate()"
   ]
  },
  {
   "cell_type": "code",
   "execution_count": null,
   "id": "c29102dd",
   "metadata": {},
   "outputs": [],
   "source": [
    "await DataAPIs.disconnect()"
   ]
  },
  {
   "cell_type": "code",
   "execution_count": null,
   "id": "ca9ab0ec",
   "metadata": {},
   "outputs": [],
   "source": [
    "await DataAPIs.connect()\n",
    "all_users = [a async for a in dump(admin=True, output=\"csv\")]\n",
    "await DataAPIs.disconnect()\n",
    "all_users"
   ]
  },
  {
   "cell_type": "code",
   "execution_count": null,
   "id": "feef9f4d",
   "metadata": {},
   "outputs": [],
   "source": []
  },
  {
   "cell_type": "code",
   "execution_count": null,
   "id": "fc4b896d",
   "metadata": {},
   "outputs": [],
   "source": [
    "await DataAPIs.connect()\n",
    "stale_users = await triage()\n",
    "await DataAPIs.disconnect()\n",
    "stale_users"
   ]
  }
 ],
 "metadata": {
  "kernelspec": {
   "display_name": "Python 3 (ipykernel)",
   "language": "python",
   "name": "python3"
  },
  "language_info": {
   "codemirror_mode": {
    "name": "ipython",
    "version": 3
   },
   "file_extension": ".py",
   "mimetype": "text/x-python",
   "name": "python",
   "nbconvert_exporter": "python",
   "pygments_lexer": "ipython3",
   "version": "3.10.4"
  }
 },
 "nbformat": 4,
 "nbformat_minor": 5
}
