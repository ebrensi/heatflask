{
 "cells": [
  {
   "cell_type": "code",
   "execution_count": null,
   "id": "edbbcad9",
   "metadata": {},
   "outputs": [],
   "source": [
    "# make sure we are working in module directory\n",
    "repo_root = !git rev-parse --show-toplevel\n",
    "module_path = repo_root[0] + \"/backend/heatflask\"\n",
    "%cd $module_path\n",
    "\n",
    "import sys\n",
    "__package__ = \"heatflask\"\n",
    "if \"..\" not in sys.path:\n",
    "    sys.path.insert(0, \"..\")\n",
    "\n",
    "\n",
    "# Make cells wider\n",
    "from IPython.display import display, HTML\n",
    "display(HTML(\"<style>.container { width:96% !important; }</style>\"))"
   ]
  },
  {
   "cell_type": "code",
   "execution_count": null,
   "id": "0ab73779",
   "metadata": {},
   "outputs": [],
   "source": [
    "%load Users.py"
   ]
  },
  {
   "cell_type": "code",
   "execution_count": null,
   "id": "5792b1d0",
   "metadata": {},
   "outputs": [],
   "source": [
    "# async with DataAPIs.Connection():\n",
    "#     await drop()"
   ]
  },
  {
   "cell_type": "code",
   "execution_count": null,
   "id": "0666a906",
   "metadata": {},
   "outputs": [],
   "source": [
    "import logging\n",
    "logging.basicConfig(level=\"DEBUG\")\n",
    "\n",
    "# new_user = User(firstname=\"dude\")  # should give an error\n",
    "\n",
    "new_user = User(id=222, username=\"dude\")\n",
    "\n",
    "async with DataAPIs.Connection():\n",
    "    await add_or_update(new_user)"
   ]
  },
  {
   "cell_type": "code",
   "execution_count": null,
   "id": "34097342",
   "metadata": {},
   "outputs": [],
   "source": [
    "User.from_mongo_doc(new_user.mongo_doc())"
   ]
  },
  {
   "cell_type": "code",
   "execution_count": null,
   "id": "91ee3937",
   "metadata": {},
   "outputs": [],
   "source": [
    "async with DataAPIs.Connection():\n",
    "    await add_or_update(User(id=222, public=True))\n",
    "    await add_or_update(User(id=222), update_login=True)\n",
    "\n",
    "user = await get(222)\n",
    "user"
   ]
  },
  {
   "cell_type": "code",
   "execution_count": null,
   "id": "1e7bdd52",
   "metadata": {},
   "outputs": [],
   "source": [
    "result = await delete(222)"
   ]
  },
  {
   "cell_type": "code",
   "execution_count": null,
   "id": "f46267a4",
   "metadata": {},
   "outputs": [],
   "source": [
    "# import real user data from Strava\n",
    "from . import Strava\n",
    "print(\"Paste this URL into your browser and retrieve the code:\\n\", Strava.auth_url(scope=[\"read\"]))\n",
    "print(\"You will be redirected to an error page. copy the 'code' parameter from the url\")"
   ]
  },
  {
   "cell_type": "code",
   "execution_count": null,
   "id": "83377347",
   "metadata": {},
   "outputs": [],
   "source": [
    "# exchange code for token\n",
    "CODE = \"cc17c17841c4be01ba043bbcbc3dfaddefb3463a\"\n",
    "C = Strava.AsyncClient(\"admin\")\n",
    "login_info = await C.update_access_token(code=CODE)\n",
    "login_info"
   ]
  },
  {
   "cell_type": "code",
   "execution_count": null,
   "id": "13509dd8",
   "metadata": {},
   "outputs": [],
   "source": [
    "user = User.from_strava_login(login_info)\n",
    "user, user.mongo_doc()"
   ]
  },
  {
   "cell_type": "code",
   "execution_count": null,
   "id": "21970120",
   "metadata": {},
   "outputs": [],
   "source": [
    "async with DataAPIs.Connection():\n",
    "    await add_or_update(user, update_login=True, update_index_access=True)"
   ]
  },
  {
   "cell_type": "code",
   "execution_count": null,
   "id": "a69f7868",
   "metadata": {},
   "outputs": [],
   "source": [
    "async_cursor = get_all()\n",
    "userslist = [user async for user in async_cursor]\n",
    "userslist"
   ]
  },
  {
   "cell_type": "code",
   "execution_count": null,
   "id": "4e20bcf6",
   "metadata": {},
   "outputs": [],
   "source": [
    "async with DataAPIs.Connection():\n",
    "    await migrate()"
   ]
  },
  {
   "cell_type": "code",
   "execution_count": null,
   "id": "ca9ab0ec",
   "metadata": {},
   "outputs": [],
   "source": [
    "async with DataAPIs.Connection():\n",
    "    all_users = [a async for a in dump(admin=True)]\n",
    "all_users"
   ]
  },
  {
   "cell_type": "code",
   "execution_count": null,
   "id": "fc4b896d",
   "metadata": {},
   "outputs": [],
   "source": [
    "from . import Users\n",
    "from .DataAPIs import Connection\n",
    "from . import Strava\n",
    "\n",
    "async with Connection():\n",
    "    stale_users = await Users.triage(only_find=True)\n",
    "\n",
    "stale_users"
   ]
  },
  {
   "cell_type": "code",
   "execution_count": null,
   "id": "568957ef",
   "metadata": {},
   "outputs": [],
   "source": [
    "async with Connection():\n",
    "    stale_user = await Users.get(stale_users[0])\n",
    "stale_user"
   ]
  },
  {
   "cell_type": "code",
   "execution_count": null,
   "id": "c44ff168",
   "metadata": {},
   "outputs": [],
   "source": [
    "c = Strava.AsyncClient(stale_user.id, stale_user.auth)"
   ]
  },
  {
   "cell_type": "code",
   "execution_count": null,
   "id": "4d31634e",
   "metadata": {},
   "outputs": [],
   "source": [
    "c"
   ]
  },
  {
   "cell_type": "code",
   "execution_count": null,
   "id": "c27b67fd",
   "metadata": {},
   "outputs": [],
   "source": [
    "await c.deauthenticate(raise_exception=False)"
   ]
  },
  {
   "cell_type": "code",
   "execution_count": null,
   "id": "b5d29545",
   "metadata": {},
   "outputs": [],
   "source": [
    "await c.deauthenticate()"
   ]
  },
  {
   "cell_type": "code",
   "execution_count": null,
   "id": "6ea38eb6",
   "metadata": {},
   "outputs": [],
   "source": [
    "async with Connection():\n",
    "    await Users.triage()"
   ]
  },
  {
   "cell_type": "code",
   "execution_count": null,
   "id": "2439cc1e",
   "metadata": {},
   "outputs": [],
   "source": []
  }
 ],
 "metadata": {
  "kernelspec": {
   "display_name": "Python 3 (ipykernel)",
   "language": "python",
   "name": "python3"
  },
  "language_info": {
   "codemirror_mode": {
    "name": "ipython",
    "version": 3
   },
   "file_extension": ".py",
   "mimetype": "text/x-python",
   "name": "python",
   "nbconvert_exporter": "python",
   "pygments_lexer": "ipython3",
   "version": "3.10.4"
  }
 },
 "nbformat": 4,
 "nbformat_minor": 5
}
