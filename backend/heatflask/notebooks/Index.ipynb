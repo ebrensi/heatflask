{
 "cells": [
  {
   "cell_type": "code",
   "execution_count": null,
   "id": "3cd2f153",
   "metadata": {},
   "outputs": [],
   "source": [
    "# make sure we are working in module directory\n",
    "repo_root = !git rev-parse --show-toplevel\n",
    "module_path = repo_root[0] + \"/backend/heatflask\"\n",
    "%cd $module_path\n",
    "\n",
    "import sys\n",
    "__package__ = \"heatflask\"\n",
    "if \"..\" not in sys.path:\n",
    "    sys.path.insert(0, \"..\")\n",
    "\n",
    "\n",
    "# Make cells wider\n",
    "from IPython.display import display, HTML\n",
    "display(HTML(\"<style>.container { width:95% !important; }</style>\"))"
   ]
  },
  {
   "cell_type": "code",
   "execution_count": null,
   "id": "92864eb1",
   "metadata": {},
   "outputs": [],
   "source": [
    "%load Index.py"
   ]
  },
  {
   "cell_type": "code",
   "execution_count": null,
   "id": "eacac29d",
   "metadata": {},
   "outputs": [],
   "source": [
    "# Example Strava ActivitySummary\n",
    "A = {'resource_state': 2,\n",
    " 'athlete': {'id': 15972102, 'resource_state': 1},\n",
    " 'name': 'Afternoon Shred',\n",
    " 'distance': 3301.7,\n",
    " 'moving_time': 1346,\n",
    " 'elapsed_time': 1378,\n",
    " 'total_elevation_gain': 50.1,\n",
    " 'type': 'Surfing',\n",
    " 'id': 6663463299,\n",
    " 'start_date': '2022-02-10T21:49:17Z',\n",
    " 'start_date_local': '2022-02-10T13:49:17Z',\n",
    " 'timezone': '(GMT-08:00) America/Los_Angeles',\n",
    " 'utc_offset': -28800.0,\n",
    " 'location_city': None,\n",
    " 'location_state': None,\n",
    " 'location_country': 'United States',\n",
    " 'achievement_count': 0,\n",
    " 'kudos_count': 0,\n",
    " 'comment_count': 0,\n",
    " 'athlete_count': 1,\n",
    " 'photo_count': 0,\n",
    " 'map': {'id': 'a6663463299',\n",
    "  'summary_polyline': 'cr{eFjowhVd@RVED]K[A[BMHKLAZBTJHAHGCEPK@k@LUFCVEP?DBL@DFd@FVNLCFIDCJWPMBa@G[O]EY?SBOd@a@FQBYH[AUIi@BQFILGNBPHNCh@WLARKDEBQCKBMNc@XMJBFH@f@Kr@c@lACN@XRf@?`@K`@@HDHZPV`@JFF@DIPCLg@NUn@YJALD\\\\N\\\\TF?HCN@JMVE@EBk@AWFYFIXSLGXENIJ]Jg@FKFCJHNVF^`@vANPLXRJJJP\\\\DDNBBERCF?FDVBHBHPBb@DTDfACz@Gp@IPHGBMAAGPORKZS\\\\e@~A_AXe@D]Cc@K_@OM?G@IJYhAMHi@Hc@TYHk@D[?g@LqAr@_@d@CRA\\\\Jl@?NEVOZWR_ANcAX[@QNO^CZ`@`BD`@@\\\\GnAQrAIb@OLI?GCKMGo@GSU]IU?UGQBc@EUe@o@Qm@E]RuBC[O_@IEMBUA]J{@^[DOASGEGIWIc@GMGEKA_@VQR{@|A]d@EBG?_@OKIQ@OCKIGY?i@DaBM]e@g@_@{@DYFQb@_ABWCMe@_@_@MSCs@Ps@Ce@?Cb@FC@FD@?E?BBB',\n",
    "  'resource_state': 2},\n",
    " 'trainer': False,\n",
    " 'commute': False,\n",
    " 'manual': False,\n",
    " 'private': False,\n",
    " 'visibility': 'everyone',\n",
    " 'flagged': False,\n",
    " 'gear_id': None,\n",
    " 'start_latlng': [37.829625, -122.18629333],\n",
    " 'end_latlng': [37.83219167, -122.187075],\n",
    " 'start_latitude': 37.829625,\n",
    " 'start_longitude': -122.187075,\n",
    " 'average_speed': 2.453,\n",
    " 'max_speed': 6.48,\n",
    " 'has_heartrate': True,\n",
    " 'average_heartrate': 115.2,\n",
    " 'max_heartrate': 142.0,\n",
    " 'heartrate_opt_out': False,\n",
    " 'display_hide_heartrate_option': True,\n",
    " 'elev_high': 428.1,\n",
    " 'elev_low': 353.1,\n",
    " 'upload_id': 7086217566,\n",
    " 'upload_id_str': '7086217566',\n",
    " 'external_id': '2022-02-10_22-13-35_2404963f-543a-485f-aca1-04e4184b7c08.tcx',\n",
    " 'from_accepted_tag': False,\n",
    " 'pr_count': 0,\n",
    " 'total_photo_count': 0,\n",
    " 'has_kudoed': False,\n",
    " 'suffer_score': 7.0}\n",
    "mongo_doc(**A)"
   ]
  },
  {
   "cell_type": "code",
   "execution_count": null,
   "id": "b4f7c501",
   "metadata": {},
   "outputs": [],
   "source": [
    "import logging\n",
    "logging.basicConfig(level=\"DEBUG\")\n",
    "log = logging.getLogger()\n",
    "\n",
    "await DataAPIs.connect()"
   ]
  },
  {
   "cell_type": "code",
   "execution_count": null,
   "id": "11958911",
   "metadata": {},
   "outputs": [],
   "source": [
    "from . import Users\n",
    "efrem = await Users.get(Users.ADMIN[0])\n",
    "efrem"
   ]
  },
  {
   "cell_type": "code",
   "execution_count": null,
   "id": "9c9f6c78",
   "metadata": {},
   "outputs": [],
   "source": [
    "await import_user_entries(**efrem)"
   ]
  },
  {
   "cell_type": "code",
   "execution_count": null,
   "id": "4aff5bc5",
   "metadata": {},
   "outputs": [],
   "source": [
    "result = await query(after=\"2021\")"
   ]
  },
  {
   "cell_type": "code",
   "execution_count": null,
   "id": "5dd36873",
   "metadata": {},
   "outputs": [],
   "source": [
    "result"
   ]
  },
  {
   "cell_type": "code",
   "execution_count": null,
   "id": "dbfe1a44",
   "metadata": {},
   "outputs": [],
   "source": [
    "from . import DataAPIs\n",
    "await DataAPIs.stats(\"index\")"
   ]
  },
  {
   "cell_type": "code",
   "execution_count": null,
   "id": "616d53ed",
   "metadata": {},
   "outputs": [],
   "source": [
    "await DataAPIs.disconnect()"
   ]
  },
  {
   "cell_type": "code",
   "execution_count": null,
   "id": "1e0a7861",
   "metadata": {},
   "outputs": [],
   "source": [
    "from .DataAPIs import db\n",
    "\n",
    "await DataAPIs.connect()\n",
    "await set_import_flag(2, \"hello\")\n",
    "x = await check_import_progress(2)\n",
    "await clear_import_flag(2)\n",
    "z = await check_import_progress(2)\n",
    "\n",
    "count = await count_user_entries(**efrem)\n",
    "\n",
    "has = await has_user_entries(**efrem)\n",
    "\n",
    "await DataAPIs.disconnect()\n",
    "\n",
    "x, z, count, has"
   ]
  },
  {
   "cell_type": "code",
   "execution_count": null,
   "id": "57a18132",
   "metadata": {},
   "outputs": [],
   "source": [
    "await DataAPIs.connect()\n",
    "result = await triage()\n",
    "await DataAPIs.disconnect()"
   ]
  }
 ],
 "metadata": {
  "kernelspec": {
   "display_name": "Python 3 (ipykernel)",
   "language": "python",
   "name": "python3"
  },
  "language_info": {
   "codemirror_mode": {
    "name": "ipython",
    "version": 3
   },
   "file_extension": ".py",
   "mimetype": "text/x-python",
   "name": "python",
   "nbconvert_exporter": "python",
   "pygments_lexer": "ipython3",
   "version": "3.10.4"
  }
 },
 "nbformat": 4,
 "nbformat_minor": 5
}
