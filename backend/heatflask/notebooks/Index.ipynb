{
 "cells": [
  {
   "cell_type": "code",
   "execution_count": null,
   "id": "3cd2f153",
   "metadata": {},
   "outputs": [],
   "source": [
    "# make sure we are working in module directory\n",
    "repo_root = !git rev-parse --show-toplevel\n",
    "module_path = repo_root[0] + \"/backend/heatflask\"\n",
    "%cd $module_path"
   ]
  },
  {
   "cell_type": "code",
   "execution_count": null,
   "id": "92864eb1",
   "metadata": {},
   "outputs": [],
   "source": [
    "# %load Index.py\n",
    "\"\"\"\n",
    "***  For Jupyter notebook ***\n",
    "\n",
    "Paste one of these Jupyter magic directives to the top of a cell\n",
    " and run it, to do these things:\n",
    "\n",
    "  * %%cython --annotate\n",
    "      Compile and run the cell\n",
    "\n",
    "  * %load Index.py\n",
    "     Load Index.py file into this (empty) cell\n",
    "\n",
    "  * %%writefile Index.py\n",
    "      Write the contents of this cell to Index.py\n",
    "\n",
    "\"\"\"\n",
    "\n",
    "import os\n",
    "from logging import getLogger\n",
    "from DataAPIs import mongodb, init_collection\n",
    "\n",
    "log = getLogger(__name__)\n",
    "log.propagate = True\n",
    "\n",
    "APP_NAME = \"heatflask\"\n",
    "COLLECTION_NAME = \"index\"\n",
    "CACHE_PREFIX = \"I:\"\n",
    "\n",
    "SECS_IN_HOUR = 60 * 60\n",
    "SECS_IN_DAY = 24 * SECS_IN_HOUR\n",
    "\n",
    "# How long we store Index entry in MongoDB\n",
    "INDEX_TTL = int(os.environ.get(\"INDEX_TTL\", 10)) * SECS_IN_DAY\n",
    "\n",
    "\n",
    "async def init_db():\n",
    "    await init_collection(\n",
    "        COLLECTION_NAME, force=False, ttl=INDEX_TTL, cache_prefix=CACHE_PREFIX\n",
    "    )\n"
   ]
  },
  {
   "cell_type": "code",
   "execution_count": null,
   "id": "dc43f8be",
   "metadata": {},
   "outputs": [],
   "source": []
  }
 ],
 "metadata": {
  "kernelspec": {
   "display_name": "Python 3 (ipykernel)",
   "language": "python",
   "name": "python3"
  },
  "language_info": {
   "codemirror_mode": {
    "name": "ipython",
    "version": 3
   },
   "file_extension": ".py",
   "mimetype": "text/x-python",
   "name": "python",
   "nbconvert_exporter": "python",
   "pygments_lexer": "ipython3",
   "version": "3.9.7"
  }
 },
 "nbformat": 4,
 "nbformat_minor": 5
}
