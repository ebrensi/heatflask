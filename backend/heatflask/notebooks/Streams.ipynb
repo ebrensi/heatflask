{
 "cells": [
  {
   "cell_type": "code",
   "execution_count": null,
   "id": "83eef44f",
   "metadata": {},
   "outputs": [],
   "source": [
    "# make sure we are working in module directory\n",
    "repo_root = !git rev-parse --show-toplevel\n",
    "module_path = repo_root[0] + \"/backend/heatflask\"\n",
    "%cd $module_path"
   ]
  },
  {
   "cell_type": "code",
   "execution_count": null,
   "id": "00f48dd9",
   "metadata": {},
   "outputs": [],
   "source": [
    "# %load Streams.py\n",
    "\"\"\"\n",
    "***  For Jupyter notebook ***\n",
    "\n",
    "Paste one of these Jupyter magic directives to the top of a cell\n",
    " and run it, to do these things:\n",
    "\n",
    "  * %%cython --annotate\n",
    "      Compile and run the cell\n",
    "\n",
    "  * %load Streams.py\n",
    "     Load Streams.py file into this (empty) cell\n",
    "\n",
    "  * %%writefile Streams.py\n",
    "      Write the contents of this cell to Streams.py\n",
    "\n",
    "\"\"\"\n",
    "\n",
    "import os\n",
    "from logging import getLogger\n",
    "from DataAPIs import redis, init_collection\n",
    "\n",
    "log = getLogger(__name__)\n",
    "log.propagate = True\n",
    "\n",
    "APP_NAME = \"heatflask\"\n",
    "COLLECTION_NAME = \"streams\"\n",
    "CACHE_PREFIX = \"S:\"\n",
    "\n",
    "SECS_IN_HOUR = 60 * 60\n",
    "SECS_IN_DAY = 24 * SECS_IN_HOUR\n",
    "\n",
    "# How long we store Index entry in MongoDB\n",
    "STREAMS_TTL = int(os.environ.get(\"STREAMS_TTL\", 4)) * SECS_IN_DAY\n",
    "DATA = {}\n",
    "\n",
    "\n",
    "async def get_collection():\n",
    "    if \"col\" not in DATA:\n",
    "        DATA[\"col\"] = await init_collection(\n",
    "            COLLECTION_NAME, force=False, ttl=STREAMS_TTL, cache_prefix=CACHE_PREFIX\n",
    "        )\n",
    "    return DATA[\"col\"]"
   ]
  },
  {
   "cell_type": "code",
   "execution_count": null,
   "id": "a8f09182",
   "metadata": {},
   "outputs": [],
   "source": []
  }
 ],
 "metadata": {
  "kernelspec": {
   "display_name": "Python 3 (ipykernel)",
   "language": "python",
   "name": "python3"
  },
  "language_info": {
   "codemirror_mode": {
    "name": "ipython",
    "version": 3
   },
   "file_extension": ".py",
   "mimetype": "text/x-python",
   "name": "python",
   "nbconvert_exporter": "python",
   "pygments_lexer": "ipython3",
   "version": "3.9.7"
  }
 },
 "nbformat": 4,
 "nbformat_minor": 5
}
