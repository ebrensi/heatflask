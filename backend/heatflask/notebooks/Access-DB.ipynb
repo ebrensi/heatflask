{
 "cells": [
  {
   "cell_type": "code",
   "execution_count": null,
   "id": "49cf50d2",
   "metadata": {},
   "outputs": [],
   "source": [
    "import os\n",
    "pgurl = os.environ[\"REMOTE_POSTGRES_URL\"]\n",
    "from sqlalchemy import create_engine, text\n",
    "\n",
    "results = None\n",
    "with create_engine(pgurl).connect() as conn:\n",
    "    result = conn.execute(text(\"select * from users where id=15972102\"))\n",
    "    results = result.all()\n",
    "results"
   ]
  },
  {
   "cell_type": "code",
   "execution_count": null,
   "id": "ebe11838",
   "metadata": {},
   "outputs": [],
   "source": [
    "import numpy as np\n",
    "USER_DTYPE = np.dtype([\n",
    "    (\"uid\", np.uint32), \n",
    "    (\"username\", object), \n",
    "    (\"firstname\", object), \n",
    "    (\"lastname\", str), \n",
    "    (\"profile\", str), \n",
    "    (\"access_token\", str), \n",
    "    (\"measurement_preference\", str),\n",
    "    (\"city\", str),\n",
    "    (\"state\", str),\n",
    "    (\"country\", str),\n",
    "    (\"email\", str),\n",
    "    (\"dt_last_active\", str),\n",
    "    (\"dt_indexed\", str),\n",
    "    (\"app_activity_count\", str),\n",
    "    (\"share_profile\", bool),\n",
    "    (\"extra\", str)\n",
    "])\n",
    "results2 = np.zeros(len(results), dtype=USER_DTYPE)"
   ]
  },
  {
   "cell_type": "code",
   "execution_count": null,
   "id": "b4529c53",
   "metadata": {},
   "outputs": [],
   "source": [
    "import motor.motor_asyncio\n",
    "mongo_url = os.environ.get(\"REMOTE_MONGODB_URL\")\n",
    "client = motor.motor_asyncio.AsyncIOMotorClient(mongo_url)"
   ]
  },
  {
   "cell_type": "code",
   "execution_count": null,
   "id": "7b82bc1b",
   "metadata": {},
   "outputs": [],
   "source": [
    "db = client.get_default_database()\n",
    "db"
   ]
  },
  {
   "cell_type": "code",
   "execution_count": null,
   "id": "7354a21a",
   "metadata": {},
   "outputs": [],
   "source": [
    "import asyncio\n",
    "from pprint import pprint\n",
    "names = await db.list_collection_names()\n",
    "pprint(names)\n",
    "\n",
    "cursor = db[\"index\"].find()\n",
    "index = await cursor.to_list(length=100)"
   ]
  },
  {
   "cell_type": "code",
   "execution_count": null,
   "id": "420f5f43",
   "metadata": {},
   "outputs": [],
   "source": [
    "index"
   ]
  },
  {
   "cell_type": "code",
   "execution_count": null,
   "id": "a65ceead",
   "metadata": {},
   "outputs": [],
   "source": [
    "activities = await db[\"activities\"].find().limit(10).to_list(length=10)"
   ]
  },
  {
   "cell_type": "code",
   "execution_count": null,
   "id": "9bc904c1",
   "metadata": {},
   "outputs": [],
   "source": [
    "import msgpack as mp\n",
    "import numpy as np \n",
    "import polyline\n",
    "\n",
    "def rll_decode(rll_encoded, first_value=0):\n",
    "    running_sum = first_value\n",
    "    out_list = [first_value]\n",
    "\n",
    "    for el in rll_encoded:\n",
    "        if isinstance(el, list) and len(el) == 2:\n",
    "            val, num_repeats = el\n",
    "            for i in range(num_repeats):\n",
    "#                 running_sum += val\n",
    "#                 out_list.append(running_sum)\n",
    "                out_list.append(val)\n",
    "        else:\n",
    "            out_list.append(el)\n",
    "#             running_sum += el\n",
    "#             out_list.append(running_sum)\n",
    "\n",
    "    return out_list\n",
    "\n",
    "LATLNG_DTYPE = np.dtype([(\"dt\", np.uint8), (\"lat\", np.float32), (\"lng\", np.float32)])\n",
    "A = mp.unpackb(activities[0][\"mpk\"])\n",
    "\n",
    "lat, lng = zip(*polyline.decode(A[\"polyline\"]))\n",
    "dt = rll_decode(A[\"time\"])\n",
    "tlatlng = np.array(list(zip(dt, lat, lng)), LATLNG_DTYPE)\n",
    "                "
   ]
  },
  {
   "cell_type": "code",
   "execution_count": null,
   "id": "6435947d",
   "metadata": {},
   "outputs": [],
   "source": [
    "tlatlng, tlatlng.nbytes"
   ]
  },
  {
   "cell_type": "code",
   "execution_count": null,
   "id": "ce7c4255",
   "metadata": {},
   "outputs": [],
   "source": [
    "activities[0][\"mpk\"], len(activities[0][\"mpk\"])"
   ]
  },
  {
   "cell_type": "code",
   "execution_count": null,
   "id": "da49cf79",
   "metadata": {},
   "outputs": [],
   "source": [
    "import aioredis\n",
    "redis_url = os.environ.get(\"REMOTE_REDIS_URL\")\n",
    "redis = aioredis.from_url(redis_url)"
   ]
  },
  {
   "cell_type": "code",
   "execution_count": null,
   "id": "01413f7b",
   "metadata": {},
   "outputs": [],
   "source": [
    "key = await redis.randomkey()\n",
    "val = await redis.get(key)"
   ]
  },
  {
   "cell_type": "code",
   "execution_count": null,
   "id": "7bb289e1",
   "metadata": {},
   "outputs": [],
   "source": [
    "key, mp.unpackb(val)"
   ]
  }
 ],
 "metadata": {
  "kernelspec": {
   "display_name": "Python 3 (ipykernel)",
   "language": "python",
   "name": "python3"
  },
  "language_info": {
   "codemirror_mode": {
    "name": "ipython",
    "version": 3
   },
   "file_extension": ".py",
   "mimetype": "text/x-python",
   "name": "python",
   "nbconvert_exporter": "python",
   "pygments_lexer": "ipython3",
   "version": "3.9.7"
  }
 },
 "nbformat": 4,
 "nbformat_minor": 5
}
