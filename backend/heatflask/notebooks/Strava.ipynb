{
 "cells": [
  {
   "cell_type": "code",
   "execution_count": null,
   "id": "0f37f234",
   "metadata": {},
   "outputs": [],
   "source": [
    "# make sure we are working in module directory\n",
    "repo_root = !git rev-parse --show-toplevel\n",
    "module_path = repo_root[0] + \"/backend/heatflask\"\n",
    "%cd $module_path\n",
    "\n",
    "import sys\n",
    "__package__ = \"heatflask\"\n",
    "if \"..\" not in sys.path:\n",
    "    sys.path.insert(0, \"..\")\n",
    "\n",
    "# Make cells wider\n",
    "from IPython.display import display, HTML\n",
    "display(HTML(\"<style>.container { width:95% !important; }</style>\"))\n"
   ]
  },
  {
   "cell_type": "code",
   "execution_count": null,
   "id": "a5f77055",
   "metadata": {},
   "outputs": [],
   "source": [
    "%load Strava.py"
   ]
  },
  {
   "cell_type": "code",
   "execution_count": null,
   "id": "5154cca6",
   "metadata": {},
   "outputs": [],
   "source": [
    "# Test Create Client\n",
    "import logging\n",
    "logging.basicConfig(level=\"DEBUG\")\n",
    "\n",
    "C = AsyncClient(\"admin\")\n",
    "C, C.expires_in"
   ]
  },
  {
   "cell_type": "code",
   "execution_count": null,
   "id": "86cc2b4e",
   "metadata": {},
   "outputs": [],
   "source": [
    "print(\"Paste this URL into your browser and retrieve the code:\\n\", get_auth_url())"
   ]
  },
  {
   "cell_type": "code",
   "execution_count": null,
   "id": "457370c6",
   "metadata": {},
   "outputs": [],
   "source": [
    "CODE = \"325f4ab4e610ce40eaf23ccf8ec15c3141819d62\""
   ]
  },
  {
   "cell_type": "code",
   "execution_count": null,
   "id": "77b116e6",
   "metadata": {},
   "outputs": [],
   "source": [
    "# Test refresh access_token\n",
    "\n",
    "# exchange code for token\n",
    "new_info = await C.update_access_token(code=CODE)\n",
    "C"
   ]
  },
  {
   "cell_type": "code",
   "execution_count": null,
   "id": "d5b857fb",
   "metadata": {},
   "outputs": [],
   "source": [
    "# # Force refresh token\n",
    "new_info = await C.update_access_token(\n",
    "    stale_ttl=C.expires_in + 1\n",
    ")\n",
    "new_info"
   ]
  },
  {
   "cell_type": "code",
   "execution_count": null,
   "id": "53c7bc81",
   "metadata": {},
   "outputs": [],
   "source": [
    "async with C:\n",
    "    U = await C.get_athlete()\n",
    "U"
   ]
  },
  {
   "cell_type": "code",
   "execution_count": null,
   "id": "205632d9",
   "metadata": {},
   "outputs": [],
   "source": [
    "log.setLevel(\"DEBUG\")\n",
    "\n",
    "gen = C.get_index()\n",
    "first10 =  [await gen.__anext__() for i in range(10)]\n",
    "A = first10[0]\n",
    "A"
   ]
  },
  {
   "cell_type": "code",
   "execution_count": null,
   "id": "655635d2",
   "metadata": {},
   "outputs": [],
   "source": [
    "await AsyncClient.abort(gen)"
   ]
  },
  {
   "cell_type": "code",
   "execution_count": null,
   "id": "6589991d",
   "metadata": {},
   "outputs": [],
   "source": [
    "aid, streams = await C.get_streams(A[\"id\"])\n",
    "aid, streams"
   ]
  },
  {
   "cell_type": "code",
   "execution_count": null,
   "id": "90a70ab5",
   "metadata": {},
   "outputs": [],
   "source": [
    "ids = [a[\"id\"] for a in first10]\n",
    "gen = C.get_many_streams(ids)\n",
    "first5 = [await gen.__anext__() for i in range(5)]\n",
    "# data = {aid: s async for ais, s in gen}"
   ]
  },
  {
   "cell_type": "code",
   "execution_count": null,
   "id": "e9dbe1a7",
   "metadata": {},
   "outputs": [],
   "source": [
    "await AsyncClient.abort(gen)"
   ]
  },
  {
   "cell_type": "code",
   "execution_count": null,
   "id": "6366190a",
   "metadata": {},
   "outputs": [],
   "source": [
    "first5"
   ]
  },
  {
   "cell_type": "code",
   "execution_count": null,
   "id": "e17bea43",
   "metadata": {},
   "outputs": [],
   "source": [
    "g = []\n",
    "g[10] = None "
   ]
  },
  {
   "cell_type": "code",
   "execution_count": null,
   "id": "0b57ac40",
   "metadata": {},
   "outputs": [],
   "source": [
    "a = asyncio.create_task(asyncio.sleep(360), name=4)"
   ]
  },
  {
   "cell_type": "code",
   "execution_count": null,
   "id": "3c0a2e11",
   "metadata": {},
   "outputs": [],
   "source": [
    "a.done()"
   ]
  },
  {
   "cell_type": "code",
   "execution_count": null,
   "id": "bdaab2c0",
   "metadata": {},
   "outputs": [],
   "source": []
  }
 ],
 "metadata": {
  "kernelspec": {
   "display_name": "Python 3 (ipykernel)",
   "language": "python",
   "name": "python3"
  },
  "language_info": {
   "codemirror_mode": {
    "name": "ipython",
    "version": 3
   },
   "file_extension": ".py",
   "mimetype": "text/x-python",
   "name": "python",
   "nbconvert_exporter": "python",
   "pygments_lexer": "ipython3",
   "version": "3.10.4"
  }
 },
 "nbformat": 4,
 "nbformat_minor": 5
}
